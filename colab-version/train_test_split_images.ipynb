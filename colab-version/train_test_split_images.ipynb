{
  "cells": [
    {
      "cell_type": "markdown",
      "metadata": {
        "id": "sy1GTVth9IYy"
      },
      "source": [
        "## Code to split images into training, testing, and validation folders randomly for YOLOv5 training. Assumes labels are already in YOLO format."
      ]
    },
    {
      "cell_type": "code",
      "execution_count": null,
      "metadata": {
        "id": "t-ShJyTei9Ph"
      },
      "outputs": [],
      "source": [
        "import os\n",
        "import shutil\n",
        "from sklearn.model_selection import train_test_split"
      ]
    },
    {
      "cell_type": "code",
      "execution_count": null,
      "metadata": {
        "id": "uMsrda6zjCvd"
      },
      "outputs": [],
      "source": [
        "def copy_files(list_img, list_annot, split, output_base):\n",
        "\n",
        "    # copy the images\n",
        "    img_folder = os.path.join(output_base, 'images', split)\n",
        "    if not os.path.isdir(img_folder):\n",
        "        os.makedirs(img_folder)\n",
        "\n",
        "    for x in list_img:\n",
        "        shutil.copy(x, img_folder)\n",
        "\n",
        "    # copy the labels\n",
        "    annot_folder = os.path.join(output_base, 'labels', split)\n",
        "    if not os.path.isdir(annot_folder):\n",
        "        os.makedirs(annot_folder)\n",
        "\n",
        "    for x in list_annot:\n",
        "        shutil.copy(x, annot_folder)\n",
        "\n",
        "    return"
      ]
    },
    {
      "cell_type": "code",
      "execution_count": null,
      "metadata": {
        "id": "-s8GylOmjHC3"
      },
      "outputs": [],
      "source": [
        "base_path = 'yolo/'\n",
        "target_parent = 'yolo/wolves_logo_detection'\n",
        "\n",
        "image_list = [os.path.join(base_path, 'images', x) for x in os.listdir(os.path.join(base_path, 'images'))]\n",
        "annot_list = [os.path.join(base_path, 'labels', x) for x in os.listdir(os.path.join(base_path, 'labels'))]\n",
        "\n",
        "# to be sure the files are in the same order we sort\n",
        "image_list.sort()\n",
        "annot_list.sort()\n",
        "\n",
        "# split images into training, test, validation sets\n",
        "img_train, img_test, annot_train, annot_test = train_test_split(image_list, annot_list, test_size = 0.2, random_state = 1)\n",
        "img_val, img_test, annot_val, annot_test = train_test_split(img_test, annot_test, test_size = 0.5, random_state = 1)\n",
        "\n",
        "# move files to specified folders\n",
        "copy_files(img_train, annot_train, 'train', target_parent)\n",
        "copy_files(img_val, annot_val, 'val', target_parent)\n",
        "copy_files(img_test, annot_test, 'test', target_parent)"
      ]
    }
  ],
  "metadata": {
    "colab": {
      "provenance": []
    },
    "kernelspec": {
      "display_name": "Python 3",
      "name": "python3"
    },
    "language_info": {
      "name": "python"
    }
  },
  "nbformat": 4,
  "nbformat_minor": 0
}
